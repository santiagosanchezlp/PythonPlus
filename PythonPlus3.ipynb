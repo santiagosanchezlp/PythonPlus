{
 "cells": [
  {
   "cell_type": "markdown",
   "metadata": {},
   "source": [
    "# 1 Actividad 3 por Python plus\n",
    "* Siguiendo los lineamientos dados, grabá un video breve, de no más de cinco (5) minutos, en donde se explique el ejercicio asignado.\n",
    "* Al finalizar copiá el enlace al video como respuesta a la tarea ACT 3 por Python plus\n",
    "### IMPORTANTE: tenés 2 horas partir del momento en que te asignamos el enunciado."
   ]
  },
  {
   "cell_type": "markdown",
   "metadata": {},
   "source": [
    "## 1.1 Enunciado 26\n",
    "Copiá el siguiente código al IDE que utilizás habitualmente y respondé las consignas de la siguiente sección. Para probar el código debés descargar el archivo: musica.json"
   ]
  },
  {
   "cell_type": "code",
   "execution_count": 46,
   "metadata": {},
   "outputs": [],
   "source": [
    "def my_function(file_name):\n",
    "\n",
    "    file = open(file_name)\n",
    "    data = json.load(file)\n",
    "    my_songs = map(lambda x: x[\"nombre\"].upper() if x[\"ciudad\"] == \"La Plata\" else x[\"nombre\"], data)\n",
    "    return my_songs"
   ]
  },
  {
   "cell_type": "code",
   "execution_count": 47,
   "metadata": {},
   "outputs": [
    {
     "name": "stdout",
     "output_type": "stream",
     "text": [
      "WILLIAM CAMPBELL\n",
      "MARCOS FAVA\n",
      "Ed Sheeran\n",
      "INXS\n",
      "La Ley\n",
      "Héroes del Silencio\n",
      "Panza\n",
      "Adele\n"
     ]
    }
   ],
   "source": [
    "from pathlib import Path\n",
    "import json\n",
    "\n",
    "try:\n",
    "    file_name = Path('archivos') / 'musica.json'\n",
    "    my_songs = my_function(file_name)\n",
    "    for song in my_songs:\n",
    "        print(song)\n",
    "except:\n",
    "    print(\"Tenemos un problema!!\")"
   ]
  },
  {
   "cell_type": "markdown",
   "metadata": {},
   "source": [
    "## 1.2 1. Analizá el código y respondé las consignas\n",
    "Antes de comenzar, ejecutá el código tal cual está y explicá qué hace."
   ]
  },
  {
   "cell_type": "markdown",
   "metadata": {},
   "source": [
    "##### Respuesta: \n",
    "* La función retorna un iterador de los nombres de los artistas incluidos en un archivo json del cual enviamos el path como parametro. Si es una banda platense, devuelve un nombre en mayúscula."
   ]
  },
  {
   "cell_type": "markdown",
   "metadata": {},
   "source": [
    "##### Respuesta:\n",
    "* Crea un path al archivo musica.json que está en la carpeta archivos. Llama a la función mencionada anteriormente que devuelve el listado de artistas. Imprime el nombre de cada artista en pantalla.\n",
    "* Si hubiera algún problema, por ejemplo, que el archivo musica no esté en la carpeta indicada, imprime el mensaje \"Tenemos un problema!!\""
   ]
  },
  {
   "cell_type": "markdown",
   "metadata": {},
   "source": [
    "(a) Modificá la función my_function de manera tal que pueda ser utilizada de la siguiente forma:\n",
    "* my_function(file) -> se comporta de la misma manera que la función original, retornando el mismo resultado.\n",
    "* my_function(file, nombre_ciudad) -> procesa solo los temas del artista procedente de la ciudad nomobre_ciudad.\n"
   ]
  },
  {
   "cell_type": "code",
   "execution_count": 48,
   "metadata": {},
   "outputs": [],
   "source": [
    "def my_function2(file_name, nombre_ciudad = \"\"):\n",
    "\n",
    "    file = open(file_name)\n",
    "    data = json.load(file)\n",
    "    if nombre_ciudad:\n",
    "        my_songs = map(lambda x: x[\"nombre\"].upper() if x[\"ciudad\"] == \"La Plata\" and x[\"ciudad\"] == nombre_ciudad else x[\"nombre\"], filter(lambda x: x[\"ciudad\"] == nombre_ciudad, data))\n",
    "    else:\n",
    "        my_songs = map(lambda x: x[\"nombre\"].upper() if x[\"ciudad\"] == \"La Plata\" and x[\"ciudad\"] == \"La Plata\" else x[\"nombre\"], data)\n",
    "    return my_songs"
   ]
  },
  {
   "cell_type": "code",
   "execution_count": 51,
   "metadata": {},
   "outputs": [
    {
     "name": "stdout",
     "output_type": "stream",
     "text": [
      "WILLIAM CAMPBELL\n",
      "MARCOS FAVA\n"
     ]
    }
   ],
   "source": [
    "from pathlib import Path\n",
    "import json\n",
    "\n",
    "try:\n",
    "    file_name = Path('archivos') / 'musica.json'\n",
    "    my_songs = my_function2(file_name, \"La Plata\")\n",
    "    for song in my_songs:\n",
    "        print(song)\n",
    "except:\n",
    "    print(\"Tenemos un problema!!\")"
   ]
  },
  {
   "cell_type": "markdown",
   "metadata": {},
   "source": [
    "(b) La función modificada en el punto anterior ¿con cuántos parámetros obligatorios se puede\n",
    "invocar?¿Y opcionales? Ejecutá el código mostrando que esto funciona según lo pedido."
   ]
  },
  {
   "cell_type": "markdown",
   "metadata": {},
   "source": [
    "Respuesta: La función puede invocarse con 1 parámetro obligatorio y 1 opcional"
   ]
  },
  {
   "cell_type": "markdown",
   "metadata": {},
   "source": [
    "(C) ¿Es correcto el manejo de archivos propuesto? Modificá el código de manera tal que se muestre\n",
    "un mensaje si el archvo no existe y otro mensaje distinto si tiene algún error de formato JSON. ¿Qué\n",
    "excepciones se producen en cada caso? ¿Tiene sentido procesarlas separadas o podrían procesarse\n",
    "juntas?\n"
   ]
  },
  {
   "cell_type": "code",
   "execution_count": 54,
   "metadata": {},
   "outputs": [
    {
     "name": "stdout",
     "output_type": "stream",
     "text": [
      "Al abrir el archivo archivos\\musica.json hubo un error con el formato\n"
     ]
    }
   ],
   "source": [
    "from pathlib import Path\n",
    "import json\n",
    "\n",
    "try:\n",
    "    file_name = Path('archivos') / 'musica.json'\n",
    "    my_songs = my_function2(file_name, \"Halifax\")\n",
    "    for song in my_songs:\n",
    "        print(song)\n",
    "except FileNotFoundError:\n",
    "    print(f'El archivo {file_name} no se encuentra')\n",
    "except json.JSONDecodeError:\n",
    "    print(f'Al abrir el archivo {file_name} hubo un error con el formato')"
   ]
  },
  {
   "cell_type": "markdown",
   "metadata": {},
   "source": [
    "(d) Si quiero manejar excepciones en mi programa, ¿tiene sentido encerrar todas las instrucciones del mismo en un único bloque try:except:? ¿Qué implica esto?\n"
   ]
  },
  {
   "cell_type": "markdown",
   "metadata": {},
   "source": [
    "No es conveniente encerrar todas las instrucciones en un unico bloque try except ya que el usuario final no tendrà forma de saber cuál es la excepción que impide que el código sea procesada de la forma que está intensionada.\n",
    "Si preparamos distintos bloques de except el usuario entenderá qué motiva la excepción y podrá solucionarlo o comunicarnos claramente cuál es el código de error para que podamos asistirlo."
   ]
  },
  {
   "cell_type": "markdown",
   "metadata": {},
   "source": [
    "(e) ¿Cuál es tipo de dato de la variable my_songs? Si quisiéramos acceder a su contenido en\n",
    "otras partes del código y recorrerla más de una vez, ¿qué solución proponés? ACLARACIÓN:\n",
    "no es necesario que hagas la modificación."
   ]
  },
  {
   "cell_type": "markdown",
   "metadata": {},
   "source": [
    "my_songs es un iterador. Por lo tanto, solo es posible recorrerlo una vez. Si quisiera recorrerlo más de una vez podría crear una lista que sea igual a my_songs "
   ]
  },
  {
   "cell_type": "code",
   "execution_count": 56,
   "metadata": {},
   "outputs": [
    {
     "name": "stdout",
     "output_type": "stream",
     "text": [
      "WILLIAM CAMPBELL\n",
      "MARCOS FAVA\n",
      "Ed Sheeran\n",
      "INXS\n",
      "La Ley\n",
      "Héroes del Silencio\n",
      "Panza\n",
      "Adele\n",
      "WILLIAM CAMPBELL\n",
      "MARCOS FAVA\n",
      "Ed Sheeran\n",
      "INXS\n",
      "La Ley\n",
      "Héroes del Silencio\n",
      "Panza\n",
      "Adele\n"
     ]
    }
   ],
   "source": [
    "from pathlib import Path\n",
    "import json\n",
    "\n",
    "try:\n",
    "    file_name = Path('archivos') / 'musica.json'\n",
    "    my_songs = my_function(file_name)\n",
    "    list_my_songs = list(my_songs)\n",
    "    for song in list_my_songs:\n",
    "        print(song)\n",
    "    for song in list_my_songs:\n",
    "        print(song)\n",
    "except:\n",
    "    print(\"Tenemos un problema!!\")"
   ]
  }
 ],
 "metadata": {
  "kernelspec": {
   "display_name": "venv",
   "language": "python",
   "name": "python3"
  },
  "language_info": {
   "codemirror_mode": {
    "name": "ipython",
    "version": 3
   },
   "file_extension": ".py",
   "mimetype": "text/x-python",
   "name": "python",
   "nbconvert_exporter": "python",
   "pygments_lexer": "ipython3",
   "version": "3.11.7"
  }
 },
 "nbformat": 4,
 "nbformat_minor": 2
}
